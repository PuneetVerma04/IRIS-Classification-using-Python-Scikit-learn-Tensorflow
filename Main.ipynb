{
  "cells": [
    {
      "cell_type": "markdown",
      "metadata": {
        "id": "view-in-github",
        "colab_type": "text"
      },
      "source": [
        "<a href=\"https://colab.research.google.com/github/PuneetVerma04/IRIS-Classification-using-Python-Scikit-learn-Tensorflow/blob/main/Main.ipynb\" target=\"_parent\"><img src=\"https://colab.research.google.com/assets/colab-badge.svg\" alt=\"Open In Colab\"/></a>"
      ]
    },
    {
      "cell_type": "code",
      "source": [
        "import pandas as pd\n",
        "import numpy as np\n",
        "import seaborn as sns\n",
        "from tensorflow import keras"
      ],
      "metadata": {
        "id": "Wsp8qv2sMk3f"
      },
      "execution_count": null,
      "outputs": []
    },
    {
      "cell_type": "code",
      "source": [
        "df = pd.read_csv('/content/drive/MyDrive/IRIS Classification/Iris.csv')\n",
        "df.head()"
      ],
      "metadata": {
        "id": "LXun1w_2NSlv",
        "outputId": "c75d9a22-3775-4934-d3d6-1f48352e227f",
        "colab": {
          "base_uri": "https://localhost:8080/",
          "height": 206
        }
      },
      "execution_count": null,
      "outputs": [
        {
          "output_type": "execute_result",
          "data": {
            "text/plain": [
              "   Id  SepalLengthCm  SepalWidthCm  PetalLengthCm  PetalWidthCm      Species\n",
              "0   1            5.1           3.5            1.4           0.2  Iris-setosa\n",
              "1   2            4.9           3.0            1.4           0.2  Iris-setosa\n",
              "2   3            4.7           3.2            1.3           0.2  Iris-setosa\n",
              "3   4            4.6           3.1            1.5           0.2  Iris-setosa\n",
              "4   5            5.0           3.6            1.4           0.2  Iris-setosa"
            ],
            "text/html": [
              "\n",
              "  <div id=\"df-ceae4eba-e77f-4d40-be80-13b773c5dae2\" class=\"colab-df-container\">\n",
              "    <div>\n",
              "<style scoped>\n",
              "    .dataframe tbody tr th:only-of-type {\n",
              "        vertical-align: middle;\n",
              "    }\n",
              "\n",
              "    .dataframe tbody tr th {\n",
              "        vertical-align: top;\n",
              "    }\n",
              "\n",
              "    .dataframe thead th {\n",
              "        text-align: right;\n",
              "    }\n",
              "</style>\n",
              "<table border=\"1\" class=\"dataframe\">\n",
              "  <thead>\n",
              "    <tr style=\"text-align: right;\">\n",
              "      <th></th>\n",
              "      <th>Id</th>\n",
              "      <th>SepalLengthCm</th>\n",
              "      <th>SepalWidthCm</th>\n",
              "      <th>PetalLengthCm</th>\n",
              "      <th>PetalWidthCm</th>\n",
              "      <th>Species</th>\n",
              "    </tr>\n",
              "  </thead>\n",
              "  <tbody>\n",
              "    <tr>\n",
              "      <th>0</th>\n",
              "      <td>1</td>\n",
              "      <td>5.1</td>\n",
              "      <td>3.5</td>\n",
              "      <td>1.4</td>\n",
              "      <td>0.2</td>\n",
              "      <td>Iris-setosa</td>\n",
              "    </tr>\n",
              "    <tr>\n",
              "      <th>1</th>\n",
              "      <td>2</td>\n",
              "      <td>4.9</td>\n",
              "      <td>3.0</td>\n",
              "      <td>1.4</td>\n",
              "      <td>0.2</td>\n",
              "      <td>Iris-setosa</td>\n",
              "    </tr>\n",
              "    <tr>\n",
              "      <th>2</th>\n",
              "      <td>3</td>\n",
              "      <td>4.7</td>\n",
              "      <td>3.2</td>\n",
              "      <td>1.3</td>\n",
              "      <td>0.2</td>\n",
              "      <td>Iris-setosa</td>\n",
              "    </tr>\n",
              "    <tr>\n",
              "      <th>3</th>\n",
              "      <td>4</td>\n",
              "      <td>4.6</td>\n",
              "      <td>3.1</td>\n",
              "      <td>1.5</td>\n",
              "      <td>0.2</td>\n",
              "      <td>Iris-setosa</td>\n",
              "    </tr>\n",
              "    <tr>\n",
              "      <th>4</th>\n",
              "      <td>5</td>\n",
              "      <td>5.0</td>\n",
              "      <td>3.6</td>\n",
              "      <td>1.4</td>\n",
              "      <td>0.2</td>\n",
              "      <td>Iris-setosa</td>\n",
              "    </tr>\n",
              "  </tbody>\n",
              "</table>\n",
              "</div>\n",
              "    <div class=\"colab-df-buttons\">\n",
              "\n",
              "  <div class=\"colab-df-container\">\n",
              "    <button class=\"colab-df-convert\" onclick=\"convertToInteractive('df-ceae4eba-e77f-4d40-be80-13b773c5dae2')\"\n",
              "            title=\"Convert this dataframe to an interactive table.\"\n",
              "            style=\"display:none;\">\n",
              "\n",
              "  <svg xmlns=\"http://www.w3.org/2000/svg\" height=\"24px\" viewBox=\"0 -960 960 960\">\n",
              "    <path d=\"M120-120v-720h720v720H120Zm60-500h600v-160H180v160Zm220 220h160v-160H400v160Zm0 220h160v-160H400v160ZM180-400h160v-160H180v160Zm440 0h160v-160H620v160ZM180-180h160v-160H180v160Zm440 0h160v-160H620v160Z\"/>\n",
              "  </svg>\n",
              "    </button>\n",
              "\n",
              "  <style>\n",
              "    .colab-df-container {\n",
              "      display:flex;\n",
              "      gap: 12px;\n",
              "    }\n",
              "\n",
              "    .colab-df-convert {\n",
              "      background-color: #E8F0FE;\n",
              "      border: none;\n",
              "      border-radius: 50%;\n",
              "      cursor: pointer;\n",
              "      display: none;\n",
              "      fill: #1967D2;\n",
              "      height: 32px;\n",
              "      padding: 0 0 0 0;\n",
              "      width: 32px;\n",
              "    }\n",
              "\n",
              "    .colab-df-convert:hover {\n",
              "      background-color: #E2EBFA;\n",
              "      box-shadow: 0px 1px 2px rgba(60, 64, 67, 0.3), 0px 1px 3px 1px rgba(60, 64, 67, 0.15);\n",
              "      fill: #174EA6;\n",
              "    }\n",
              "\n",
              "    .colab-df-buttons div {\n",
              "      margin-bottom: 4px;\n",
              "    }\n",
              "\n",
              "    [theme=dark] .colab-df-convert {\n",
              "      background-color: #3B4455;\n",
              "      fill: #D2E3FC;\n",
              "    }\n",
              "\n",
              "    [theme=dark] .colab-df-convert:hover {\n",
              "      background-color: #434B5C;\n",
              "      box-shadow: 0px 1px 3px 1px rgba(0, 0, 0, 0.15);\n",
              "      filter: drop-shadow(0px 1px 2px rgba(0, 0, 0, 0.3));\n",
              "      fill: #FFFFFF;\n",
              "    }\n",
              "  </style>\n",
              "\n",
              "    <script>\n",
              "      const buttonEl =\n",
              "        document.querySelector('#df-ceae4eba-e77f-4d40-be80-13b773c5dae2 button.colab-df-convert');\n",
              "      buttonEl.style.display =\n",
              "        google.colab.kernel.accessAllowed ? 'block' : 'none';\n",
              "\n",
              "      async function convertToInteractive(key) {\n",
              "        const element = document.querySelector('#df-ceae4eba-e77f-4d40-be80-13b773c5dae2');\n",
              "        const dataTable =\n",
              "          await google.colab.kernel.invokeFunction('convertToInteractive',\n",
              "                                                    [key], {});\n",
              "        if (!dataTable) return;\n",
              "\n",
              "        const docLinkHtml = 'Like what you see? Visit the ' +\n",
              "          '<a target=\"_blank\" href=https://colab.research.google.com/notebooks/data_table.ipynb>data table notebook</a>'\n",
              "          + ' to learn more about interactive tables.';\n",
              "        element.innerHTML = '';\n",
              "        dataTable['output_type'] = 'display_data';\n",
              "        await google.colab.output.renderOutput(dataTable, element);\n",
              "        const docLink = document.createElement('div');\n",
              "        docLink.innerHTML = docLinkHtml;\n",
              "        element.appendChild(docLink);\n",
              "      }\n",
              "    </script>\n",
              "  </div>\n",
              "\n",
              "\n",
              "<div id=\"df-948c6f56-81bf-4f51-adeb-1b47607c63e9\">\n",
              "  <button class=\"colab-df-quickchart\" onclick=\"quickchart('df-948c6f56-81bf-4f51-adeb-1b47607c63e9')\"\n",
              "            title=\"Suggest charts\"\n",
              "            style=\"display:none;\">\n",
              "\n",
              "<svg xmlns=\"http://www.w3.org/2000/svg\" height=\"24px\"viewBox=\"0 0 24 24\"\n",
              "     width=\"24px\">\n",
              "    <g>\n",
              "        <path d=\"M19 3H5c-1.1 0-2 .9-2 2v14c0 1.1.9 2 2 2h14c1.1 0 2-.9 2-2V5c0-1.1-.9-2-2-2zM9 17H7v-7h2v7zm4 0h-2V7h2v10zm4 0h-2v-4h2v4z\"/>\n",
              "    </g>\n",
              "</svg>\n",
              "  </button>\n",
              "\n",
              "<style>\n",
              "  .colab-df-quickchart {\n",
              "      --bg-color: #E8F0FE;\n",
              "      --fill-color: #1967D2;\n",
              "      --hover-bg-color: #E2EBFA;\n",
              "      --hover-fill-color: #174EA6;\n",
              "      --disabled-fill-color: #AAA;\n",
              "      --disabled-bg-color: #DDD;\n",
              "  }\n",
              "\n",
              "  [theme=dark] .colab-df-quickchart {\n",
              "      --bg-color: #3B4455;\n",
              "      --fill-color: #D2E3FC;\n",
              "      --hover-bg-color: #434B5C;\n",
              "      --hover-fill-color: #FFFFFF;\n",
              "      --disabled-bg-color: #3B4455;\n",
              "      --disabled-fill-color: #666;\n",
              "  }\n",
              "\n",
              "  .colab-df-quickchart {\n",
              "    background-color: var(--bg-color);\n",
              "    border: none;\n",
              "    border-radius: 50%;\n",
              "    cursor: pointer;\n",
              "    display: none;\n",
              "    fill: var(--fill-color);\n",
              "    height: 32px;\n",
              "    padding: 0;\n",
              "    width: 32px;\n",
              "  }\n",
              "\n",
              "  .colab-df-quickchart:hover {\n",
              "    background-color: var(--hover-bg-color);\n",
              "    box-shadow: 0 1px 2px rgba(60, 64, 67, 0.3), 0 1px 3px 1px rgba(60, 64, 67, 0.15);\n",
              "    fill: var(--button-hover-fill-color);\n",
              "  }\n",
              "\n",
              "  .colab-df-quickchart-complete:disabled,\n",
              "  .colab-df-quickchart-complete:disabled:hover {\n",
              "    background-color: var(--disabled-bg-color);\n",
              "    fill: var(--disabled-fill-color);\n",
              "    box-shadow: none;\n",
              "  }\n",
              "\n",
              "  .colab-df-spinner {\n",
              "    border: 2px solid var(--fill-color);\n",
              "    border-color: transparent;\n",
              "    border-bottom-color: var(--fill-color);\n",
              "    animation:\n",
              "      spin 1s steps(1) infinite;\n",
              "  }\n",
              "\n",
              "  @keyframes spin {\n",
              "    0% {\n",
              "      border-color: transparent;\n",
              "      border-bottom-color: var(--fill-color);\n",
              "      border-left-color: var(--fill-color);\n",
              "    }\n",
              "    20% {\n",
              "      border-color: transparent;\n",
              "      border-left-color: var(--fill-color);\n",
              "      border-top-color: var(--fill-color);\n",
              "    }\n",
              "    30% {\n",
              "      border-color: transparent;\n",
              "      border-left-color: var(--fill-color);\n",
              "      border-top-color: var(--fill-color);\n",
              "      border-right-color: var(--fill-color);\n",
              "    }\n",
              "    40% {\n",
              "      border-color: transparent;\n",
              "      border-right-color: var(--fill-color);\n",
              "      border-top-color: var(--fill-color);\n",
              "    }\n",
              "    60% {\n",
              "      border-color: transparent;\n",
              "      border-right-color: var(--fill-color);\n",
              "    }\n",
              "    80% {\n",
              "      border-color: transparent;\n",
              "      border-right-color: var(--fill-color);\n",
              "      border-bottom-color: var(--fill-color);\n",
              "    }\n",
              "    90% {\n",
              "      border-color: transparent;\n",
              "      border-bottom-color: var(--fill-color);\n",
              "    }\n",
              "  }\n",
              "</style>\n",
              "\n",
              "  <script>\n",
              "    async function quickchart(key) {\n",
              "      const quickchartButtonEl =\n",
              "        document.querySelector('#' + key + ' button');\n",
              "      quickchartButtonEl.disabled = true;  // To prevent multiple clicks.\n",
              "      quickchartButtonEl.classList.add('colab-df-spinner');\n",
              "      try {\n",
              "        const charts = await google.colab.kernel.invokeFunction(\n",
              "            'suggestCharts', [key], {});\n",
              "      } catch (error) {\n",
              "        console.error('Error during call to suggestCharts:', error);\n",
              "      }\n",
              "      quickchartButtonEl.classList.remove('colab-df-spinner');\n",
              "      quickchartButtonEl.classList.add('colab-df-quickchart-complete');\n",
              "    }\n",
              "    (() => {\n",
              "      let quickchartButtonEl =\n",
              "        document.querySelector('#df-948c6f56-81bf-4f51-adeb-1b47607c63e9 button');\n",
              "      quickchartButtonEl.style.display =\n",
              "        google.colab.kernel.accessAllowed ? 'block' : 'none';\n",
              "    })();\n",
              "  </script>\n",
              "</div>\n",
              "    </div>\n",
              "  </div>\n"
            ]
          },
          "metadata": {},
          "execution_count": 2
        }
      ]
    },
    {
      "cell_type": "code",
      "source": [
        "df['Species'].value_counts()"
      ],
      "metadata": {
        "id": "H_26JbiQNzhV",
        "outputId": "5aeb7582-c718-4f2a-e8b0-15a5c00fcfb1",
        "colab": {
          "base_uri": "https://localhost:8080/"
        }
      },
      "execution_count": null,
      "outputs": [
        {
          "output_type": "execute_result",
          "data": {
            "text/plain": [
              "Iris-setosa        50\n",
              "Iris-versicolor    50\n",
              "Iris-virginica     50\n",
              "Name: Species, dtype: int64"
            ]
          },
          "metadata": {},
          "execution_count": 3
        }
      ]
    },
    {
      "cell_type": "code",
      "source": [
        "df.info()"
      ],
      "metadata": {
        "id": "BEKsm05fOcIs",
        "outputId": "81d8fa3a-dee5-43fe-85f4-819707d17f12",
        "colab": {
          "base_uri": "https://localhost:8080/"
        }
      },
      "execution_count": null,
      "outputs": [
        {
          "output_type": "stream",
          "name": "stdout",
          "text": [
            "<class 'pandas.core.frame.DataFrame'>\n",
            "RangeIndex: 150 entries, 0 to 149\n",
            "Data columns (total 6 columns):\n",
            " #   Column         Non-Null Count  Dtype  \n",
            "---  ------         --------------  -----  \n",
            " 0   Id             150 non-null    int64  \n",
            " 1   SepalLengthCm  150 non-null    float64\n",
            " 2   SepalWidthCm   150 non-null    float64\n",
            " 3   PetalLengthCm  150 non-null    float64\n",
            " 4   PetalWidthCm   150 non-null    float64\n",
            " 5   Species        150 non-null    object \n",
            "dtypes: float64(4), int64(1), object(1)\n",
            "memory usage: 7.2+ KB\n"
          ]
        }
      ]
    },
    {
      "cell_type": "code",
      "source": [
        "df.isnull().sum()"
      ],
      "metadata": {
        "id": "btbOJ636Oi5e",
        "outputId": "6bc0648d-73ec-448e-d15e-dd0678f3f208",
        "colab": {
          "base_uri": "https://localhost:8080/"
        }
      },
      "execution_count": null,
      "outputs": [
        {
          "output_type": "execute_result",
          "data": {
            "text/plain": [
              "Id               0\n",
              "SepalLengthCm    0\n",
              "SepalWidthCm     0\n",
              "PetalLengthCm    0\n",
              "PetalWidthCm     0\n",
              "Species          0\n",
              "dtype: int64"
            ]
          },
          "metadata": {},
          "execution_count": 5
        }
      ]
    },
    {
      "cell_type": "code",
      "source": [
        "from sklearn.preprocessing import LabelEncoder\n",
        "le = LabelEncoder()\n",
        "df['Species'] = le.fit_transform(df['Species'])\n",
        "df.head()"
      ],
      "metadata": {
        "id": "khK6aHTmOxWs",
        "outputId": "3c4fdf03-b383-4182-d988-cf69008b2109",
        "colab": {
          "base_uri": "https://localhost:8080/",
          "height": 206
        }
      },
      "execution_count": null,
      "outputs": [
        {
          "output_type": "execute_result",
          "data": {
            "text/plain": [
              "   Id  SepalLengthCm  SepalWidthCm  PetalLengthCm  PetalWidthCm  Species\n",
              "0   1            5.1           3.5            1.4           0.2        0\n",
              "1   2            4.9           3.0            1.4           0.2        0\n",
              "2   3            4.7           3.2            1.3           0.2        0\n",
              "3   4            4.6           3.1            1.5           0.2        0\n",
              "4   5            5.0           3.6            1.4           0.2        0"
            ],
            "text/html": [
              "\n",
              "  <div id=\"df-3a951309-c19b-4f51-8e8b-341334d41af1\" class=\"colab-df-container\">\n",
              "    <div>\n",
              "<style scoped>\n",
              "    .dataframe tbody tr th:only-of-type {\n",
              "        vertical-align: middle;\n",
              "    }\n",
              "\n",
              "    .dataframe tbody tr th {\n",
              "        vertical-align: top;\n",
              "    }\n",
              "\n",
              "    .dataframe thead th {\n",
              "        text-align: right;\n",
              "    }\n",
              "</style>\n",
              "<table border=\"1\" class=\"dataframe\">\n",
              "  <thead>\n",
              "    <tr style=\"text-align: right;\">\n",
              "      <th></th>\n",
              "      <th>Id</th>\n",
              "      <th>SepalLengthCm</th>\n",
              "      <th>SepalWidthCm</th>\n",
              "      <th>PetalLengthCm</th>\n",
              "      <th>PetalWidthCm</th>\n",
              "      <th>Species</th>\n",
              "    </tr>\n",
              "  </thead>\n",
              "  <tbody>\n",
              "    <tr>\n",
              "      <th>0</th>\n",
              "      <td>1</td>\n",
              "      <td>5.1</td>\n",
              "      <td>3.5</td>\n",
              "      <td>1.4</td>\n",
              "      <td>0.2</td>\n",
              "      <td>0</td>\n",
              "    </tr>\n",
              "    <tr>\n",
              "      <th>1</th>\n",
              "      <td>2</td>\n",
              "      <td>4.9</td>\n",
              "      <td>3.0</td>\n",
              "      <td>1.4</td>\n",
              "      <td>0.2</td>\n",
              "      <td>0</td>\n",
              "    </tr>\n",
              "    <tr>\n",
              "      <th>2</th>\n",
              "      <td>3</td>\n",
              "      <td>4.7</td>\n",
              "      <td>3.2</td>\n",
              "      <td>1.3</td>\n",
              "      <td>0.2</td>\n",
              "      <td>0</td>\n",
              "    </tr>\n",
              "    <tr>\n",
              "      <th>3</th>\n",
              "      <td>4</td>\n",
              "      <td>4.6</td>\n",
              "      <td>3.1</td>\n",
              "      <td>1.5</td>\n",
              "      <td>0.2</td>\n",
              "      <td>0</td>\n",
              "    </tr>\n",
              "    <tr>\n",
              "      <th>4</th>\n",
              "      <td>5</td>\n",
              "      <td>5.0</td>\n",
              "      <td>3.6</td>\n",
              "      <td>1.4</td>\n",
              "      <td>0.2</td>\n",
              "      <td>0</td>\n",
              "    </tr>\n",
              "  </tbody>\n",
              "</table>\n",
              "</div>\n",
              "    <div class=\"colab-df-buttons\">\n",
              "\n",
              "  <div class=\"colab-df-container\">\n",
              "    <button class=\"colab-df-convert\" onclick=\"convertToInteractive('df-3a951309-c19b-4f51-8e8b-341334d41af1')\"\n",
              "            title=\"Convert this dataframe to an interactive table.\"\n",
              "            style=\"display:none;\">\n",
              "\n",
              "  <svg xmlns=\"http://www.w3.org/2000/svg\" height=\"24px\" viewBox=\"0 -960 960 960\">\n",
              "    <path d=\"M120-120v-720h720v720H120Zm60-500h600v-160H180v160Zm220 220h160v-160H400v160Zm0 220h160v-160H400v160ZM180-400h160v-160H180v160Zm440 0h160v-160H620v160ZM180-180h160v-160H180v160Zm440 0h160v-160H620v160Z\"/>\n",
              "  </svg>\n",
              "    </button>\n",
              "\n",
              "  <style>\n",
              "    .colab-df-container {\n",
              "      display:flex;\n",
              "      gap: 12px;\n",
              "    }\n",
              "\n",
              "    .colab-df-convert {\n",
              "      background-color: #E8F0FE;\n",
              "      border: none;\n",
              "      border-radius: 50%;\n",
              "      cursor: pointer;\n",
              "      display: none;\n",
              "      fill: #1967D2;\n",
              "      height: 32px;\n",
              "      padding: 0 0 0 0;\n",
              "      width: 32px;\n",
              "    }\n",
              "\n",
              "    .colab-df-convert:hover {\n",
              "      background-color: #E2EBFA;\n",
              "      box-shadow: 0px 1px 2px rgba(60, 64, 67, 0.3), 0px 1px 3px 1px rgba(60, 64, 67, 0.15);\n",
              "      fill: #174EA6;\n",
              "    }\n",
              "\n",
              "    .colab-df-buttons div {\n",
              "      margin-bottom: 4px;\n",
              "    }\n",
              "\n",
              "    [theme=dark] .colab-df-convert {\n",
              "      background-color: #3B4455;\n",
              "      fill: #D2E3FC;\n",
              "    }\n",
              "\n",
              "    [theme=dark] .colab-df-convert:hover {\n",
              "      background-color: #434B5C;\n",
              "      box-shadow: 0px 1px 3px 1px rgba(0, 0, 0, 0.15);\n",
              "      filter: drop-shadow(0px 1px 2px rgba(0, 0, 0, 0.3));\n",
              "      fill: #FFFFFF;\n",
              "    }\n",
              "  </style>\n",
              "\n",
              "    <script>\n",
              "      const buttonEl =\n",
              "        document.querySelector('#df-3a951309-c19b-4f51-8e8b-341334d41af1 button.colab-df-convert');\n",
              "      buttonEl.style.display =\n",
              "        google.colab.kernel.accessAllowed ? 'block' : 'none';\n",
              "\n",
              "      async function convertToInteractive(key) {\n",
              "        const element = document.querySelector('#df-3a951309-c19b-4f51-8e8b-341334d41af1');\n",
              "        const dataTable =\n",
              "          await google.colab.kernel.invokeFunction('convertToInteractive',\n",
              "                                                    [key], {});\n",
              "        if (!dataTable) return;\n",
              "\n",
              "        const docLinkHtml = 'Like what you see? Visit the ' +\n",
              "          '<a target=\"_blank\" href=https://colab.research.google.com/notebooks/data_table.ipynb>data table notebook</a>'\n",
              "          + ' to learn more about interactive tables.';\n",
              "        element.innerHTML = '';\n",
              "        dataTable['output_type'] = 'display_data';\n",
              "        await google.colab.output.renderOutput(dataTable, element);\n",
              "        const docLink = document.createElement('div');\n",
              "        docLink.innerHTML = docLinkHtml;\n",
              "        element.appendChild(docLink);\n",
              "      }\n",
              "    </script>\n",
              "  </div>\n",
              "\n",
              "\n",
              "<div id=\"df-29d1a906-1dc1-4cb3-8fc0-4e7541db3601\">\n",
              "  <button class=\"colab-df-quickchart\" onclick=\"quickchart('df-29d1a906-1dc1-4cb3-8fc0-4e7541db3601')\"\n",
              "            title=\"Suggest charts\"\n",
              "            style=\"display:none;\">\n",
              "\n",
              "<svg xmlns=\"http://www.w3.org/2000/svg\" height=\"24px\"viewBox=\"0 0 24 24\"\n",
              "     width=\"24px\">\n",
              "    <g>\n",
              "        <path d=\"M19 3H5c-1.1 0-2 .9-2 2v14c0 1.1.9 2 2 2h14c1.1 0 2-.9 2-2V5c0-1.1-.9-2-2-2zM9 17H7v-7h2v7zm4 0h-2V7h2v10zm4 0h-2v-4h2v4z\"/>\n",
              "    </g>\n",
              "</svg>\n",
              "  </button>\n",
              "\n",
              "<style>\n",
              "  .colab-df-quickchart {\n",
              "      --bg-color: #E8F0FE;\n",
              "      --fill-color: #1967D2;\n",
              "      --hover-bg-color: #E2EBFA;\n",
              "      --hover-fill-color: #174EA6;\n",
              "      --disabled-fill-color: #AAA;\n",
              "      --disabled-bg-color: #DDD;\n",
              "  }\n",
              "\n",
              "  [theme=dark] .colab-df-quickchart {\n",
              "      --bg-color: #3B4455;\n",
              "      --fill-color: #D2E3FC;\n",
              "      --hover-bg-color: #434B5C;\n",
              "      --hover-fill-color: #FFFFFF;\n",
              "      --disabled-bg-color: #3B4455;\n",
              "      --disabled-fill-color: #666;\n",
              "  }\n",
              "\n",
              "  .colab-df-quickchart {\n",
              "    background-color: var(--bg-color);\n",
              "    border: none;\n",
              "    border-radius: 50%;\n",
              "    cursor: pointer;\n",
              "    display: none;\n",
              "    fill: var(--fill-color);\n",
              "    height: 32px;\n",
              "    padding: 0;\n",
              "    width: 32px;\n",
              "  }\n",
              "\n",
              "  .colab-df-quickchart:hover {\n",
              "    background-color: var(--hover-bg-color);\n",
              "    box-shadow: 0 1px 2px rgba(60, 64, 67, 0.3), 0 1px 3px 1px rgba(60, 64, 67, 0.15);\n",
              "    fill: var(--button-hover-fill-color);\n",
              "  }\n",
              "\n",
              "  .colab-df-quickchart-complete:disabled,\n",
              "  .colab-df-quickchart-complete:disabled:hover {\n",
              "    background-color: var(--disabled-bg-color);\n",
              "    fill: var(--disabled-fill-color);\n",
              "    box-shadow: none;\n",
              "  }\n",
              "\n",
              "  .colab-df-spinner {\n",
              "    border: 2px solid var(--fill-color);\n",
              "    border-color: transparent;\n",
              "    border-bottom-color: var(--fill-color);\n",
              "    animation:\n",
              "      spin 1s steps(1) infinite;\n",
              "  }\n",
              "\n",
              "  @keyframes spin {\n",
              "    0% {\n",
              "      border-color: transparent;\n",
              "      border-bottom-color: var(--fill-color);\n",
              "      border-left-color: var(--fill-color);\n",
              "    }\n",
              "    20% {\n",
              "      border-color: transparent;\n",
              "      border-left-color: var(--fill-color);\n",
              "      border-top-color: var(--fill-color);\n",
              "    }\n",
              "    30% {\n",
              "      border-color: transparent;\n",
              "      border-left-color: var(--fill-color);\n",
              "      border-top-color: var(--fill-color);\n",
              "      border-right-color: var(--fill-color);\n",
              "    }\n",
              "    40% {\n",
              "      border-color: transparent;\n",
              "      border-right-color: var(--fill-color);\n",
              "      border-top-color: var(--fill-color);\n",
              "    }\n",
              "    60% {\n",
              "      border-color: transparent;\n",
              "      border-right-color: var(--fill-color);\n",
              "    }\n",
              "    80% {\n",
              "      border-color: transparent;\n",
              "      border-right-color: var(--fill-color);\n",
              "      border-bottom-color: var(--fill-color);\n",
              "    }\n",
              "    90% {\n",
              "      border-color: transparent;\n",
              "      border-bottom-color: var(--fill-color);\n",
              "    }\n",
              "  }\n",
              "</style>\n",
              "\n",
              "  <script>\n",
              "    async function quickchart(key) {\n",
              "      const quickchartButtonEl =\n",
              "        document.querySelector('#' + key + ' button');\n",
              "      quickchartButtonEl.disabled = true;  // To prevent multiple clicks.\n",
              "      quickchartButtonEl.classList.add('colab-df-spinner');\n",
              "      try {\n",
              "        const charts = await google.colab.kernel.invokeFunction(\n",
              "            'suggestCharts', [key], {});\n",
              "      } catch (error) {\n",
              "        console.error('Error during call to suggestCharts:', error);\n",
              "      }\n",
              "      quickchartButtonEl.classList.remove('colab-df-spinner');\n",
              "      quickchartButtonEl.classList.add('colab-df-quickchart-complete');\n",
              "    }\n",
              "    (() => {\n",
              "      let quickchartButtonEl =\n",
              "        document.querySelector('#df-29d1a906-1dc1-4cb3-8fc0-4e7541db3601 button');\n",
              "      quickchartButtonEl.style.display =\n",
              "        google.colab.kernel.accessAllowed ? 'block' : 'none';\n",
              "    })();\n",
              "  </script>\n",
              "</div>\n",
              "    </div>\n",
              "  </div>\n"
            ]
          },
          "metadata": {},
          "execution_count": 6
        }
      ]
    },
    {
      "cell_type": "code",
      "source": [
        "species_name = le.classes_\n",
        "print(species_name)"
      ],
      "metadata": {
        "id": "Uos4HOdrPJSV",
        "outputId": "51feab50-c395-4171-99b8-a3d4ea02824c",
        "colab": {
          "base_uri": "https://localhost:8080/"
        }
      },
      "execution_count": null,
      "outputs": [
        {
          "output_type": "stream",
          "name": "stdout",
          "text": [
            "['Iris-setosa' 'Iris-versicolor' 'Iris-virginica']\n"
          ]
        }
      ]
    },
    {
      "cell_type": "code",
      "source": [
        "x = df.drop(columns=['Id' , 'Species'])\n",
        "y = df['Species']\n",
        "x.head(3)"
      ],
      "metadata": {
        "id": "UE5yufv0PnqX",
        "outputId": "1c50c1f4-d4c1-4cb3-ece8-429fa50b054b",
        "colab": {
          "base_uri": "https://localhost:8080/",
          "height": 143
        }
      },
      "execution_count": null,
      "outputs": [
        {
          "output_type": "execute_result",
          "data": {
            "text/plain": [
              "   SepalLengthCm  SepalWidthCm  PetalLengthCm  PetalWidthCm\n",
              "0            5.1           3.5            1.4           0.2\n",
              "1            4.9           3.0            1.4           0.2\n",
              "2            4.7           3.2            1.3           0.2"
            ],
            "text/html": [
              "\n",
              "  <div id=\"df-eabadbb7-a182-460f-9ab1-92cf3cc5e94f\" class=\"colab-df-container\">\n",
              "    <div>\n",
              "<style scoped>\n",
              "    .dataframe tbody tr th:only-of-type {\n",
              "        vertical-align: middle;\n",
              "    }\n",
              "\n",
              "    .dataframe tbody tr th {\n",
              "        vertical-align: top;\n",
              "    }\n",
              "\n",
              "    .dataframe thead th {\n",
              "        text-align: right;\n",
              "    }\n",
              "</style>\n",
              "<table border=\"1\" class=\"dataframe\">\n",
              "  <thead>\n",
              "    <tr style=\"text-align: right;\">\n",
              "      <th></th>\n",
              "      <th>SepalLengthCm</th>\n",
              "      <th>SepalWidthCm</th>\n",
              "      <th>PetalLengthCm</th>\n",
              "      <th>PetalWidthCm</th>\n",
              "    </tr>\n",
              "  </thead>\n",
              "  <tbody>\n",
              "    <tr>\n",
              "      <th>0</th>\n",
              "      <td>5.1</td>\n",
              "      <td>3.5</td>\n",
              "      <td>1.4</td>\n",
              "      <td>0.2</td>\n",
              "    </tr>\n",
              "    <tr>\n",
              "      <th>1</th>\n",
              "      <td>4.9</td>\n",
              "      <td>3.0</td>\n",
              "      <td>1.4</td>\n",
              "      <td>0.2</td>\n",
              "    </tr>\n",
              "    <tr>\n",
              "      <th>2</th>\n",
              "      <td>4.7</td>\n",
              "      <td>3.2</td>\n",
              "      <td>1.3</td>\n",
              "      <td>0.2</td>\n",
              "    </tr>\n",
              "  </tbody>\n",
              "</table>\n",
              "</div>\n",
              "    <div class=\"colab-df-buttons\">\n",
              "\n",
              "  <div class=\"colab-df-container\">\n",
              "    <button class=\"colab-df-convert\" onclick=\"convertToInteractive('df-eabadbb7-a182-460f-9ab1-92cf3cc5e94f')\"\n",
              "            title=\"Convert this dataframe to an interactive table.\"\n",
              "            style=\"display:none;\">\n",
              "\n",
              "  <svg xmlns=\"http://www.w3.org/2000/svg\" height=\"24px\" viewBox=\"0 -960 960 960\">\n",
              "    <path d=\"M120-120v-720h720v720H120Zm60-500h600v-160H180v160Zm220 220h160v-160H400v160Zm0 220h160v-160H400v160ZM180-400h160v-160H180v160Zm440 0h160v-160H620v160ZM180-180h160v-160H180v160Zm440 0h160v-160H620v160Z\"/>\n",
              "  </svg>\n",
              "    </button>\n",
              "\n",
              "  <style>\n",
              "    .colab-df-container {\n",
              "      display:flex;\n",
              "      gap: 12px;\n",
              "    }\n",
              "\n",
              "    .colab-df-convert {\n",
              "      background-color: #E8F0FE;\n",
              "      border: none;\n",
              "      border-radius: 50%;\n",
              "      cursor: pointer;\n",
              "      display: none;\n",
              "      fill: #1967D2;\n",
              "      height: 32px;\n",
              "      padding: 0 0 0 0;\n",
              "      width: 32px;\n",
              "    }\n",
              "\n",
              "    .colab-df-convert:hover {\n",
              "      background-color: #E2EBFA;\n",
              "      box-shadow: 0px 1px 2px rgba(60, 64, 67, 0.3), 0px 1px 3px 1px rgba(60, 64, 67, 0.15);\n",
              "      fill: #174EA6;\n",
              "    }\n",
              "\n",
              "    .colab-df-buttons div {\n",
              "      margin-bottom: 4px;\n",
              "    }\n",
              "\n",
              "    [theme=dark] .colab-df-convert {\n",
              "      background-color: #3B4455;\n",
              "      fill: #D2E3FC;\n",
              "    }\n",
              "\n",
              "    [theme=dark] .colab-df-convert:hover {\n",
              "      background-color: #434B5C;\n",
              "      box-shadow: 0px 1px 3px 1px rgba(0, 0, 0, 0.15);\n",
              "      filter: drop-shadow(0px 1px 2px rgba(0, 0, 0, 0.3));\n",
              "      fill: #FFFFFF;\n",
              "    }\n",
              "  </style>\n",
              "\n",
              "    <script>\n",
              "      const buttonEl =\n",
              "        document.querySelector('#df-eabadbb7-a182-460f-9ab1-92cf3cc5e94f button.colab-df-convert');\n",
              "      buttonEl.style.display =\n",
              "        google.colab.kernel.accessAllowed ? 'block' : 'none';\n",
              "\n",
              "      async function convertToInteractive(key) {\n",
              "        const element = document.querySelector('#df-eabadbb7-a182-460f-9ab1-92cf3cc5e94f');\n",
              "        const dataTable =\n",
              "          await google.colab.kernel.invokeFunction('convertToInteractive',\n",
              "                                                    [key], {});\n",
              "        if (!dataTable) return;\n",
              "\n",
              "        const docLinkHtml = 'Like what you see? Visit the ' +\n",
              "          '<a target=\"_blank\" href=https://colab.research.google.com/notebooks/data_table.ipynb>data table notebook</a>'\n",
              "          + ' to learn more about interactive tables.';\n",
              "        element.innerHTML = '';\n",
              "        dataTable['output_type'] = 'display_data';\n",
              "        await google.colab.output.renderOutput(dataTable, element);\n",
              "        const docLink = document.createElement('div');\n",
              "        docLink.innerHTML = docLinkHtml;\n",
              "        element.appendChild(docLink);\n",
              "      }\n",
              "    </script>\n",
              "  </div>\n",
              "\n",
              "\n",
              "<div id=\"df-418c9db0-4461-463d-a392-4354b28f046e\">\n",
              "  <button class=\"colab-df-quickchart\" onclick=\"quickchart('df-418c9db0-4461-463d-a392-4354b28f046e')\"\n",
              "            title=\"Suggest charts\"\n",
              "            style=\"display:none;\">\n",
              "\n",
              "<svg xmlns=\"http://www.w3.org/2000/svg\" height=\"24px\"viewBox=\"0 0 24 24\"\n",
              "     width=\"24px\">\n",
              "    <g>\n",
              "        <path d=\"M19 3H5c-1.1 0-2 .9-2 2v14c0 1.1.9 2 2 2h14c1.1 0 2-.9 2-2V5c0-1.1-.9-2-2-2zM9 17H7v-7h2v7zm4 0h-2V7h2v10zm4 0h-2v-4h2v4z\"/>\n",
              "    </g>\n",
              "</svg>\n",
              "  </button>\n",
              "\n",
              "<style>\n",
              "  .colab-df-quickchart {\n",
              "      --bg-color: #E8F0FE;\n",
              "      --fill-color: #1967D2;\n",
              "      --hover-bg-color: #E2EBFA;\n",
              "      --hover-fill-color: #174EA6;\n",
              "      --disabled-fill-color: #AAA;\n",
              "      --disabled-bg-color: #DDD;\n",
              "  }\n",
              "\n",
              "  [theme=dark] .colab-df-quickchart {\n",
              "      --bg-color: #3B4455;\n",
              "      --fill-color: #D2E3FC;\n",
              "      --hover-bg-color: #434B5C;\n",
              "      --hover-fill-color: #FFFFFF;\n",
              "      --disabled-bg-color: #3B4455;\n",
              "      --disabled-fill-color: #666;\n",
              "  }\n",
              "\n",
              "  .colab-df-quickchart {\n",
              "    background-color: var(--bg-color);\n",
              "    border: none;\n",
              "    border-radius: 50%;\n",
              "    cursor: pointer;\n",
              "    display: none;\n",
              "    fill: var(--fill-color);\n",
              "    height: 32px;\n",
              "    padding: 0;\n",
              "    width: 32px;\n",
              "  }\n",
              "\n",
              "  .colab-df-quickchart:hover {\n",
              "    background-color: var(--hover-bg-color);\n",
              "    box-shadow: 0 1px 2px rgba(60, 64, 67, 0.3), 0 1px 3px 1px rgba(60, 64, 67, 0.15);\n",
              "    fill: var(--button-hover-fill-color);\n",
              "  }\n",
              "\n",
              "  .colab-df-quickchart-complete:disabled,\n",
              "  .colab-df-quickchart-complete:disabled:hover {\n",
              "    background-color: var(--disabled-bg-color);\n",
              "    fill: var(--disabled-fill-color);\n",
              "    box-shadow: none;\n",
              "  }\n",
              "\n",
              "  .colab-df-spinner {\n",
              "    border: 2px solid var(--fill-color);\n",
              "    border-color: transparent;\n",
              "    border-bottom-color: var(--fill-color);\n",
              "    animation:\n",
              "      spin 1s steps(1) infinite;\n",
              "  }\n",
              "\n",
              "  @keyframes spin {\n",
              "    0% {\n",
              "      border-color: transparent;\n",
              "      border-bottom-color: var(--fill-color);\n",
              "      border-left-color: var(--fill-color);\n",
              "    }\n",
              "    20% {\n",
              "      border-color: transparent;\n",
              "      border-left-color: var(--fill-color);\n",
              "      border-top-color: var(--fill-color);\n",
              "    }\n",
              "    30% {\n",
              "      border-color: transparent;\n",
              "      border-left-color: var(--fill-color);\n",
              "      border-top-color: var(--fill-color);\n",
              "      border-right-color: var(--fill-color);\n",
              "    }\n",
              "    40% {\n",
              "      border-color: transparent;\n",
              "      border-right-color: var(--fill-color);\n",
              "      border-top-color: var(--fill-color);\n",
              "    }\n",
              "    60% {\n",
              "      border-color: transparent;\n",
              "      border-right-color: var(--fill-color);\n",
              "    }\n",
              "    80% {\n",
              "      border-color: transparent;\n",
              "      border-right-color: var(--fill-color);\n",
              "      border-bottom-color: var(--fill-color);\n",
              "    }\n",
              "    90% {\n",
              "      border-color: transparent;\n",
              "      border-bottom-color: var(--fill-color);\n",
              "    }\n",
              "  }\n",
              "</style>\n",
              "\n",
              "  <script>\n",
              "    async function quickchart(key) {\n",
              "      const quickchartButtonEl =\n",
              "        document.querySelector('#' + key + ' button');\n",
              "      quickchartButtonEl.disabled = true;  // To prevent multiple clicks.\n",
              "      quickchartButtonEl.classList.add('colab-df-spinner');\n",
              "      try {\n",
              "        const charts = await google.colab.kernel.invokeFunction(\n",
              "            'suggestCharts', [key], {});\n",
              "      } catch (error) {\n",
              "        console.error('Error during call to suggestCharts:', error);\n",
              "      }\n",
              "      quickchartButtonEl.classList.remove('colab-df-spinner');\n",
              "      quickchartButtonEl.classList.add('colab-df-quickchart-complete');\n",
              "    }\n",
              "    (() => {\n",
              "      let quickchartButtonEl =\n",
              "        document.querySelector('#df-418c9db0-4461-463d-a392-4354b28f046e button');\n",
              "      quickchartButtonEl.style.display =\n",
              "        google.colab.kernel.accessAllowed ? 'block' : 'none';\n",
              "    })();\n",
              "  </script>\n",
              "</div>\n",
              "    </div>\n",
              "  </div>\n"
            ]
          },
          "metadata": {},
          "execution_count": 8
        }
      ]
    },
    {
      "cell_type": "code",
      "source": [
        "print(y[:5])"
      ],
      "metadata": {
        "id": "VQ39VrwkP8Nz",
        "outputId": "eabb69f3-0485-4d4d-8cd2-82f9d1007110",
        "colab": {
          "base_uri": "https://localhost:8080/"
        }
      },
      "execution_count": null,
      "outputs": [
        {
          "output_type": "stream",
          "name": "stdout",
          "text": [
            "0    0\n",
            "1    0\n",
            "2    0\n",
            "3    0\n",
            "4    0\n",
            "Name: Species, dtype: int64\n"
          ]
        }
      ]
    },
    {
      "cell_type": "code",
      "source": [
        "from sklearn.model_selection import train_test_split\n",
        "x_train, x_test, y_train, y_test = train_test_split(x,y,test_size = 0.3, shuffle=True, random_state=69)"
      ],
      "metadata": {
        "id": "l-hhXaViQDwL"
      },
      "execution_count": null,
      "outputs": []
    },
    {
      "cell_type": "code",
      "source": [
        "x_train.shape"
      ],
      "metadata": {
        "id": "shF4axv8Qlst",
        "outputId": "adc16c88-86d5-49d5-b34e-a9e2f6436244",
        "colab": {
          "base_uri": "https://localhost:8080/"
        }
      },
      "execution_count": null,
      "outputs": [
        {
          "output_type": "execute_result",
          "data": {
            "text/plain": [
              "(105, 4)"
            ]
          },
          "metadata": {},
          "execution_count": 11
        }
      ]
    },
    {
      "cell_type": "code",
      "source": [
        "from sklearn.preprocessing import StandardScaler\n",
        "sc = StandardScaler()\n",
        "print(x_train[:1])\n",
        "x_train = sc.fit_transform(x_train)\n",
        "x_test = sc.transform(x_test)\n",
        "print(x_train[:1])"
      ],
      "metadata": {
        "id": "MBlRmsR-Qsuc",
        "outputId": "e28bb140-c535-4537-c479-5fddaaaecb96",
        "colab": {
          "base_uri": "https://localhost:8080/"
        }
      },
      "execution_count": null,
      "outputs": [
        {
          "output_type": "stream",
          "name": "stdout",
          "text": [
            "    SepalLengthCm  SepalWidthCm  PetalLengthCm  PetalWidthCm\n",
            "57            4.9           2.4            3.3           1.0\n",
            "[[-1.14630942 -1.44374444 -0.25650655 -0.258263  ]]\n"
          ]
        }
      ]
    },
    {
      "cell_type": "code",
      "source": [
        "y_train = keras.utils.to_categorical(y_train, num_classes=3)\n",
        "print(y_train[:5])"
      ],
      "metadata": {
        "id": "r0HYRgh3RXbb",
        "outputId": "f8e8e456-a6f1-456d-cd81-8a8e41f07a75",
        "colab": {
          "base_uri": "https://localhost:8080/"
        }
      },
      "execution_count": null,
      "outputs": [
        {
          "output_type": "stream",
          "name": "stdout",
          "text": [
            "[[0. 1. 0.]\n",
            " [0. 0. 1.]\n",
            " [0. 1. 0.]\n",
            " [0. 1. 0.]\n",
            " [0. 1. 0.]]\n"
          ]
        }
      ]
    },
    {
      "cell_type": "code",
      "source": [
        "from keras.models import Sequential\n",
        "from keras.layers import Dense, Dropout"
      ],
      "metadata": {
        "id": "H8k1hghHR8Ga"
      },
      "execution_count": null,
      "outputs": []
    },
    {
      "cell_type": "code",
      "source": [
        "model = Sequential()\n",
        "model.add(Dense(units = 32, activation='relu', input_shape=(x_train.shape[-1], )))\n",
        "model.add(Dense(units=32, activation = 'relu'))\n",
        "model.add(Dropout(0.5))\n",
        "model.add(Dense(units=3, activation='softmax'))"
      ],
      "metadata": {
        "id": "6lhibm25R8WJ"
      },
      "execution_count": null,
      "outputs": []
    },
    {
      "cell_type": "code",
      "source": [
        "model.compile(optimizer='Adam', loss='categorical_crossentropy', metrics=['accuracy'])\n",
        "model.summary()"
      ],
      "metadata": {
        "id": "NO8bVbr6R8vy",
        "outputId": "f08b753a-f929-4865-cbb3-d674f8b6755e",
        "colab": {
          "base_uri": "https://localhost:8080/"
        }
      },
      "execution_count": null,
      "outputs": [
        {
          "output_type": "stream",
          "name": "stdout",
          "text": [
            "Model: \"sequential\"\n",
            "_________________________________________________________________\n",
            " Layer (type)                Output Shape              Param #   \n",
            "=================================================================\n",
            " dense (Dense)               (None, 32)                160       \n",
            "                                                                 \n",
            " dense_1 (Dense)             (None, 32)                1056      \n",
            "                                                                 \n",
            " dropout (Dropout)           (None, 32)                0         \n",
            "                                                                 \n",
            " dense_2 (Dense)             (None, 3)                 99        \n",
            "                                                                 \n",
            "=================================================================\n",
            "Total params: 1315 (5.14 KB)\n",
            "Trainable params: 1315 (5.14 KB)\n",
            "Non-trainable params: 0 (0.00 Byte)\n",
            "_________________________________________________________________\n"
          ]
        }
      ]
    },
    {
      "cell_type": "code",
      "source": [
        "model.fit(x_train, y_train, epochs=100, verbose=2)"
      ],
      "metadata": {
        "id": "jrabEhVbYoj0",
        "outputId": "8da9ce71-049f-486a-f06f-8a1e76a204af",
        "colab": {
          "base_uri": "https://localhost:8080/"
        }
      },
      "execution_count": null,
      "outputs": [
        {
          "output_type": "stream",
          "name": "stdout",
          "text": [
            "Epoch 1/100\n",
            "4/4 - 1s - loss: 1.2311 - accuracy: 0.2286 - 537ms/epoch - 134ms/step\n",
            "Epoch 2/100\n",
            "4/4 - 0s - loss: 1.2070 - accuracy: 0.2571 - 8ms/epoch - 2ms/step\n",
            "Epoch 3/100\n",
            "4/4 - 0s - loss: 1.1569 - accuracy: 0.3048 - 8ms/epoch - 2ms/step\n",
            "Epoch 4/100\n",
            "4/4 - 0s - loss: 1.0845 - accuracy: 0.4286 - 9ms/epoch - 2ms/step\n",
            "Epoch 5/100\n",
            "4/4 - 0s - loss: 1.0539 - accuracy: 0.4952 - 8ms/epoch - 2ms/step\n",
            "Epoch 6/100\n",
            "4/4 - 0s - loss: 0.9751 - accuracy: 0.6286 - 14ms/epoch - 3ms/step\n",
            "Epoch 7/100\n",
            "4/4 - 0s - loss: 0.9726 - accuracy: 0.5905 - 8ms/epoch - 2ms/step\n",
            "Epoch 8/100\n",
            "4/4 - 0s - loss: 0.9373 - accuracy: 0.6762 - 9ms/epoch - 2ms/step\n",
            "Epoch 9/100\n",
            "4/4 - 0s - loss: 0.8812 - accuracy: 0.6857 - 8ms/epoch - 2ms/step\n",
            "Epoch 10/100\n",
            "4/4 - 0s - loss: 0.8514 - accuracy: 0.7524 - 11ms/epoch - 3ms/step\n",
            "Epoch 11/100\n",
            "4/4 - 0s - loss: 0.8652 - accuracy: 0.6952 - 10ms/epoch - 2ms/step\n",
            "Epoch 12/100\n",
            "4/4 - 0s - loss: 0.8135 - accuracy: 0.7238 - 17ms/epoch - 4ms/step\n",
            "Epoch 13/100\n",
            "4/4 - 0s - loss: 0.7622 - accuracy: 0.7714 - 15ms/epoch - 4ms/step\n",
            "Epoch 14/100\n",
            "4/4 - 0s - loss: 0.7219 - accuracy: 0.7619 - 9ms/epoch - 2ms/step\n",
            "Epoch 15/100\n",
            "4/4 - 0s - loss: 0.7097 - accuracy: 0.7810 - 9ms/epoch - 2ms/step\n",
            "Epoch 16/100\n",
            "4/4 - 0s - loss: 0.6835 - accuracy: 0.8000 - 11ms/epoch - 3ms/step\n",
            "Epoch 17/100\n",
            "4/4 - 0s - loss: 0.6565 - accuracy: 0.7714 - 8ms/epoch - 2ms/step\n",
            "Epoch 18/100\n",
            "4/4 - 0s - loss: 0.6393 - accuracy: 0.8286 - 8ms/epoch - 2ms/step\n",
            "Epoch 19/100\n",
            "4/4 - 0s - loss: 0.6854 - accuracy: 0.7714 - 8ms/epoch - 2ms/step\n",
            "Epoch 20/100\n",
            "4/4 - 0s - loss: 0.5616 - accuracy: 0.8190 - 8ms/epoch - 2ms/step\n",
            "Epoch 21/100\n",
            "4/4 - 0s - loss: 0.5724 - accuracy: 0.8095 - 8ms/epoch - 2ms/step\n",
            "Epoch 22/100\n",
            "4/4 - 0s - loss: 0.5812 - accuracy: 0.8190 - 8ms/epoch - 2ms/step\n",
            "Epoch 23/100\n",
            "4/4 - 0s - loss: 0.5501 - accuracy: 0.8000 - 9ms/epoch - 2ms/step\n",
            "Epoch 24/100\n",
            "4/4 - 0s - loss: 0.5559 - accuracy: 0.8286 - 8ms/epoch - 2ms/step\n",
            "Epoch 25/100\n",
            "4/4 - 0s - loss: 0.4907 - accuracy: 0.8190 - 10ms/epoch - 3ms/step\n",
            "Epoch 26/100\n",
            "4/4 - 0s - loss: 0.5428 - accuracy: 0.8095 - 9ms/epoch - 2ms/step\n",
            "Epoch 27/100\n",
            "4/4 - 0s - loss: 0.5296 - accuracy: 0.8000 - 9ms/epoch - 2ms/step\n",
            "Epoch 28/100\n",
            "4/4 - 0s - loss: 0.4801 - accuracy: 0.8095 - 15ms/epoch - 4ms/step\n",
            "Epoch 29/100\n",
            "4/4 - 0s - loss: 0.4718 - accuracy: 0.8095 - 10ms/epoch - 3ms/step\n",
            "Epoch 30/100\n",
            "4/4 - 0s - loss: 0.4685 - accuracy: 0.8381 - 11ms/epoch - 3ms/step\n",
            "Epoch 31/100\n",
            "4/4 - 0s - loss: 0.4588 - accuracy: 0.8000 - 13ms/epoch - 3ms/step\n",
            "Epoch 32/100\n",
            "4/4 - 0s - loss: 0.4061 - accuracy: 0.8667 - 10ms/epoch - 3ms/step\n",
            "Epoch 33/100\n",
            "4/4 - 0s - loss: 0.4177 - accuracy: 0.8190 - 10ms/epoch - 2ms/step\n",
            "Epoch 34/100\n",
            "4/4 - 0s - loss: 0.4209 - accuracy: 0.8762 - 10ms/epoch - 2ms/step\n",
            "Epoch 35/100\n",
            "4/4 - 0s - loss: 0.4070 - accuracy: 0.9048 - 11ms/epoch - 3ms/step\n",
            "Epoch 36/100\n",
            "4/4 - 0s - loss: 0.4171 - accuracy: 0.8667 - 10ms/epoch - 2ms/step\n",
            "Epoch 37/100\n",
            "4/4 - 0s - loss: 0.3407 - accuracy: 0.9048 - 10ms/epoch - 2ms/step\n",
            "Epoch 38/100\n",
            "4/4 - 0s - loss: 0.4047 - accuracy: 0.8857 - 11ms/epoch - 3ms/step\n",
            "Epoch 39/100\n",
            "4/4 - 0s - loss: 0.3831 - accuracy: 0.8857 - 9ms/epoch - 2ms/step\n",
            "Epoch 40/100\n",
            "4/4 - 0s - loss: 0.3347 - accuracy: 0.8762 - 10ms/epoch - 2ms/step\n",
            "Epoch 41/100\n",
            "4/4 - 0s - loss: 0.3296 - accuracy: 0.8857 - 10ms/epoch - 2ms/step\n",
            "Epoch 42/100\n",
            "4/4 - 0s - loss: 0.3624 - accuracy: 0.8571 - 9ms/epoch - 2ms/step\n",
            "Epoch 43/100\n",
            "4/4 - 0s - loss: 0.3311 - accuracy: 0.9048 - 9ms/epoch - 2ms/step\n",
            "Epoch 44/100\n",
            "4/4 - 0s - loss: 0.3768 - accuracy: 0.8286 - 9ms/epoch - 2ms/step\n",
            "Epoch 45/100\n",
            "4/4 - 0s - loss: 0.3259 - accuracy: 0.9048 - 10ms/epoch - 3ms/step\n",
            "Epoch 46/100\n",
            "4/4 - 0s - loss: 0.3864 - accuracy: 0.8667 - 9ms/epoch - 2ms/step\n",
            "Epoch 47/100\n",
            "4/4 - 0s - loss: 0.3401 - accuracy: 0.8571 - 11ms/epoch - 3ms/step\n",
            "Epoch 48/100\n",
            "4/4 - 0s - loss: 0.3157 - accuracy: 0.8667 - 10ms/epoch - 3ms/step\n",
            "Epoch 49/100\n",
            "4/4 - 0s - loss: 0.3081 - accuracy: 0.9143 - 8ms/epoch - 2ms/step\n",
            "Epoch 50/100\n",
            "4/4 - 0s - loss: 0.3296 - accuracy: 0.8762 - 10ms/epoch - 2ms/step\n",
            "Epoch 51/100\n",
            "4/4 - 0s - loss: 0.3366 - accuracy: 0.9048 - 8ms/epoch - 2ms/step\n",
            "Epoch 52/100\n",
            "4/4 - 0s - loss: 0.2837 - accuracy: 0.9333 - 13ms/epoch - 3ms/step\n",
            "Epoch 53/100\n",
            "4/4 - 0s - loss: 0.3095 - accuracy: 0.8857 - 9ms/epoch - 2ms/step\n",
            "Epoch 54/100\n",
            "4/4 - 0s - loss: 0.3211 - accuracy: 0.8952 - 17ms/epoch - 4ms/step\n",
            "Epoch 55/100\n",
            "4/4 - 0s - loss: 0.3286 - accuracy: 0.9143 - 8ms/epoch - 2ms/step\n",
            "Epoch 56/100\n",
            "4/4 - 0s - loss: 0.2784 - accuracy: 0.8952 - 10ms/epoch - 2ms/step\n",
            "Epoch 57/100\n",
            "4/4 - 0s - loss: 0.3066 - accuracy: 0.8952 - 8ms/epoch - 2ms/step\n",
            "Epoch 58/100\n",
            "4/4 - 0s - loss: 0.2868 - accuracy: 0.9048 - 12ms/epoch - 3ms/step\n",
            "Epoch 59/100\n",
            "4/4 - 0s - loss: 0.2664 - accuracy: 0.9048 - 8ms/epoch - 2ms/step\n",
            "Epoch 60/100\n",
            "4/4 - 0s - loss: 0.2772 - accuracy: 0.9238 - 10ms/epoch - 2ms/step\n",
            "Epoch 61/100\n",
            "4/4 - 0s - loss: 0.2377 - accuracy: 0.9333 - 12ms/epoch - 3ms/step\n",
            "Epoch 62/100\n",
            "4/4 - 0s - loss: 0.2663 - accuracy: 0.9143 - 10ms/epoch - 2ms/step\n",
            "Epoch 63/100\n",
            "4/4 - 0s - loss: 0.2905 - accuracy: 0.9238 - 11ms/epoch - 3ms/step\n",
            "Epoch 64/100\n",
            "4/4 - 0s - loss: 0.2677 - accuracy: 0.8667 - 9ms/epoch - 2ms/step\n",
            "Epoch 65/100\n",
            "4/4 - 0s - loss: 0.2600 - accuracy: 0.9333 - 8ms/epoch - 2ms/step\n",
            "Epoch 66/100\n",
            "4/4 - 0s - loss: 0.2281 - accuracy: 0.9333 - 9ms/epoch - 2ms/step\n",
            "Epoch 67/100\n",
            "4/4 - 0s - loss: 0.2254 - accuracy: 0.9333 - 13ms/epoch - 3ms/step\n",
            "Epoch 68/100\n",
            "4/4 - 0s - loss: 0.2743 - accuracy: 0.9238 - 9ms/epoch - 2ms/step\n",
            "Epoch 69/100\n",
            "4/4 - 0s - loss: 0.2541 - accuracy: 0.9143 - 9ms/epoch - 2ms/step\n",
            "Epoch 70/100\n",
            "4/4 - 0s - loss: 0.2429 - accuracy: 0.9143 - 10ms/epoch - 3ms/step\n",
            "Epoch 71/100\n",
            "4/4 - 0s - loss: 0.2491 - accuracy: 0.9238 - 12ms/epoch - 3ms/step\n",
            "Epoch 72/100\n",
            "4/4 - 0s - loss: 0.2511 - accuracy: 0.9429 - 10ms/epoch - 3ms/step\n",
            "Epoch 73/100\n",
            "4/4 - 0s - loss: 0.2458 - accuracy: 0.9238 - 10ms/epoch - 2ms/step\n",
            "Epoch 74/100\n",
            "4/4 - 0s - loss: 0.2031 - accuracy: 0.9333 - 10ms/epoch - 2ms/step\n",
            "Epoch 75/100\n",
            "4/4 - 0s - loss: 0.2592 - accuracy: 0.8952 - 12ms/epoch - 3ms/step\n",
            "Epoch 76/100\n",
            "4/4 - 0s - loss: 0.2193 - accuracy: 0.9048 - 11ms/epoch - 3ms/step\n",
            "Epoch 77/100\n",
            "4/4 - 0s - loss: 0.1880 - accuracy: 0.9524 - 12ms/epoch - 3ms/step\n",
            "Epoch 78/100\n",
            "4/4 - 0s - loss: 0.2118 - accuracy: 0.9524 - 9ms/epoch - 2ms/step\n",
            "Epoch 79/100\n",
            "4/4 - 0s - loss: 0.2156 - accuracy: 0.9238 - 10ms/epoch - 3ms/step\n",
            "Epoch 80/100\n",
            "4/4 - 0s - loss: 0.2271 - accuracy: 0.9048 - 9ms/epoch - 2ms/step\n",
            "Epoch 81/100\n",
            "4/4 - 0s - loss: 0.2039 - accuracy: 0.9429 - 10ms/epoch - 2ms/step\n",
            "Epoch 82/100\n",
            "4/4 - 0s - loss: 0.2362 - accuracy: 0.9238 - 8ms/epoch - 2ms/step\n",
            "Epoch 83/100\n",
            "4/4 - 0s - loss: 0.1685 - accuracy: 0.9429 - 8ms/epoch - 2ms/step\n",
            "Epoch 84/100\n",
            "4/4 - 0s - loss: 0.2099 - accuracy: 0.9238 - 12ms/epoch - 3ms/step\n",
            "Epoch 85/100\n",
            "4/4 - 0s - loss: 0.1882 - accuracy: 0.9619 - 9ms/epoch - 2ms/step\n",
            "Epoch 86/100\n",
            "4/4 - 0s - loss: 0.1865 - accuracy: 0.9238 - 9ms/epoch - 2ms/step\n",
            "Epoch 87/100\n",
            "4/4 - 0s - loss: 0.2048 - accuracy: 0.9238 - 15ms/epoch - 4ms/step\n",
            "Epoch 88/100\n",
            "4/4 - 0s - loss: 0.2247 - accuracy: 0.9429 - 11ms/epoch - 3ms/step\n",
            "Epoch 89/100\n",
            "4/4 - 0s - loss: 0.1446 - accuracy: 0.9810 - 8ms/epoch - 2ms/step\n",
            "Epoch 90/100\n",
            "4/4 - 0s - loss: 0.1790 - accuracy: 0.9524 - 10ms/epoch - 2ms/step\n",
            "Epoch 91/100\n",
            "4/4 - 0s - loss: 0.2019 - accuracy: 0.9333 - 8ms/epoch - 2ms/step\n",
            "Epoch 92/100\n",
            "4/4 - 0s - loss: 0.1769 - accuracy: 0.9524 - 9ms/epoch - 2ms/step\n",
            "Epoch 93/100\n",
            "4/4 - 0s - loss: 0.1905 - accuracy: 0.9429 - 9ms/epoch - 2ms/step\n",
            "Epoch 94/100\n",
            "4/4 - 0s - loss: 0.1945 - accuracy: 0.9143 - 9ms/epoch - 2ms/step\n",
            "Epoch 95/100\n",
            "4/4 - 0s - loss: 0.1791 - accuracy: 0.9143 - 9ms/epoch - 2ms/step\n",
            "Epoch 96/100\n",
            "4/4 - 0s - loss: 0.1956 - accuracy: 0.9143 - 10ms/epoch - 2ms/step\n",
            "Epoch 97/100\n",
            "4/4 - 0s - loss: 0.1804 - accuracy: 0.9333 - 7ms/epoch - 2ms/step\n",
            "Epoch 98/100\n",
            "4/4 - 0s - loss: 0.1314 - accuracy: 0.9619 - 8ms/epoch - 2ms/step\n",
            "Epoch 99/100\n",
            "4/4 - 0s - loss: 0.1549 - accuracy: 0.9238 - 8ms/epoch - 2ms/step\n",
            "Epoch 100/100\n",
            "4/4 - 0s - loss: 0.1472 - accuracy: 0.9619 - 8ms/epoch - 2ms/step\n"
          ]
        },
        {
          "output_type": "execute_result",
          "data": {
            "text/plain": [
              "<keras.src.callbacks.History at 0x7bf716297b50>"
            ]
          },
          "metadata": {},
          "execution_count": 17
        }
      ]
    },
    {
      "cell_type": "code",
      "source": [
        "prediction = model.predict(x_test)\n",
        "print(prediction[:5])"
      ],
      "metadata": {
        "id": "pQJXHFwLZD1x",
        "outputId": "87db84ec-ad12-4b51-dea1-853315885950",
        "colab": {
          "base_uri": "https://localhost:8080/"
        }
      },
      "execution_count": null,
      "outputs": [
        {
          "output_type": "stream",
          "name": "stdout",
          "text": [
            "2/2 [==============================] - 0s 4ms/step\n",
            "[[9.9937999e-01 5.3761940e-04 8.2276318e-05]\n",
            " [1.2908891e-02 9.0936160e-01 7.7729523e-02]\n",
            " [9.9731302e-01 2.2516069e-03 4.3536563e-04]\n",
            " [4.0305178e-05 9.3326885e-03 9.9062699e-01]\n",
            " [9.9717712e-01 2.3748633e-03 4.4803842e-04]]\n"
          ]
        }
      ]
    },
    {
      "cell_type": "code",
      "source": [
        "prediction = np.argmax(prediction, axis=-1)\n",
        "print(prediction[:5])"
      ],
      "metadata": {
        "id": "MJKoze9pa6yb",
        "outputId": "26e4bb14-24ed-437b-fadd-b31a86736e79",
        "colab": {
          "base_uri": "https://localhost:8080/"
        }
      },
      "execution_count": null,
      "outputs": [
        {
          "output_type": "stream",
          "name": "stdout",
          "text": [
            "[0 1 0 2 0]\n"
          ]
        }
      ]
    },
    {
      "cell_type": "code",
      "source": [
        "print(y_test[:5])"
      ],
      "metadata": {
        "id": "ADfwT7h5ZDrG",
        "outputId": "f79b611e-ed0c-45b0-eeb6-99771088cb4b",
        "colab": {
          "base_uri": "https://localhost:8080/"
        }
      },
      "execution_count": null,
      "outputs": [
        {
          "output_type": "stream",
          "name": "stdout",
          "text": [
            "4      0\n",
            "58     1\n",
            "20     0\n",
            "114    2\n",
            "31     0\n",
            "Name: Species, dtype: int64\n"
          ]
        }
      ]
    },
    {
      "cell_type": "code",
      "source": [
        "from sklearn.metrics import accuracy_score, confusion_matrix\n",
        "print(accuracy_score(y_test, prediction))"
      ],
      "metadata": {
        "id": "uGGGskiFZewD",
        "outputId": "936c1964-504a-46bb-e6f2-c041ae1cdff2",
        "colab": {
          "base_uri": "https://localhost:8080/"
        }
      },
      "execution_count": null,
      "outputs": [
        {
          "output_type": "stream",
          "name": "stdout",
          "text": [
            "0.9777777777777777\n"
          ]
        }
      ]
    },
    {
      "cell_type": "code",
      "source": [
        "cm = confusion_matrix(y_test, prediction)\n",
        "print(cm)"
      ],
      "metadata": {
        "id": "Wl_hIDsXbTQ7",
        "outputId": "f69e97e6-12cb-468d-9000-7019d2f93854",
        "colab": {
          "base_uri": "https://localhost:8080/"
        }
      },
      "execution_count": null,
      "outputs": [
        {
          "output_type": "stream",
          "name": "stdout",
          "text": [
            "[[16  0  0]\n",
            " [ 0 12  0]\n",
            " [ 0  1 16]]\n"
          ]
        }
      ]
    },
    {
      "cell_type": "code",
      "source": [
        "ax = sns.heatmap(cm, annot=True, fmt='d', cmap='Reds', xticklabels=species_name, yticklabels=species_name)\n",
        "ax.set_title('Confusion matrix for iris dataset prediction')\n",
        "ax.set_xlabel('prediction', fontsize=14)\n",
        "ax.set_ylabel('actual', fontsize=14)"
      ],
      "metadata": {
        "id": "SnztdBVybhcL",
        "outputId": "2f2de198-c678-4fd7-d3d3-68bc0b4418bd",
        "colab": {
          "base_uri": "https://localhost:8080/",
          "height": 494
        }
      },
      "execution_count": null,
      "outputs": [
        {
          "output_type": "execute_result",
          "data": {
            "text/plain": [
              "Text(50.72222222222221, 0.5, 'actual')"
            ]
          },
          "metadata": {},
          "execution_count": 23
        },
        {
          "output_type": "display_data",
          "data": {
            "text/plain": [
              "<Figure size 640x480 with 2 Axes>"
            ],
            "image/png": "[encoded data removed]"
          },
          "metadata": {}
        }
      ]
    }
  ],
  "metadata": {
    "colab": {
      "provenance": [],
      "include_colab_link": true
    },
    "kernelspec": {
      "display_name": "Python 3",
      "name": "python3"
    }
  },
  "nbformat": 4,
  "nbformat_minor": 0
}